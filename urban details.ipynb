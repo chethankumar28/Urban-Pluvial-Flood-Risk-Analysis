{
 "cells": [
  {
   "cell_type": "markdown",
   "id": "db560cef",
   "metadata": {},
   "source": [
    "# column description"
   ]
  },
  {
   "cell_type": "markdown",
   "id": "aebd9f9f",
   "metadata": {},
   "source": [
    "segment_id → Unique ID for each road/catchment segment.\n",
    "\n",
    "city_name → City where the segment is located.\n",
    "\n",
    "admin_ward → Administrative ward/sector of the city.\n",
    "\n",
    "latitude, longitude → Geographic coordinates of the segment.\n",
    "\n",
    "catchment_id → ID for the catchment area (drainage basin).\n",
    "\n",
    "elevation_m → Elevation above sea level (in meters).\n",
    "\n",
    "dem_source → Source of elevation data (e.g., Copernicus, SRTM).\n",
    "\n",
    "land_use → Type of land use (Residential, Industrial, Institutional, etc.).\n",
    "\n",
    "soil_group → Soil classification (A, B, C, D) affecting infiltration.\n",
    "\n",
    "drainage_density_km_per_km2 → Drainage network density in the area.\n",
    "\n",
    "storm_drain_proximity_m → Distance to the nearest storm drain (meters).\n",
    "\n",
    "storm_drain_type → Type of drainage (Open Channel, Curb Inlet, Manhole, etc.).\n",
    "\n",
    "rainfall_source → Source of rainfall data (ERA5, IMD, etc.).\n",
    "\n",
    "historical_rainfall_intensity_mm_hr → Past rainfall intensity (mm/hr).\n",
    "\n",
    "return_period_years → Flood return period (5, 10, 25, 50 years).\n",
    "\n",
    "risk_labels → Flood risk status (e.g., monitor, ponding_hotspot, low_lying, with event date)."
   ]
  },
  {
   "cell_type": "markdown",
   "id": "e5582829",
   "metadata": {},
   "source": [
    "# Analysis"
   ]
  },
  {
   "cell_type": "markdown",
   "id": "50ab0112",
   "metadata": {},
   "source": [
    "1. ----------------------------------------------------Dataset Basics-------------------------------------------------\n",
    "\n",
    "How many total records are there in the dataset?\n",
    "\n",
    "What are the different risk_labels?\n",
    "\n",
    "How many segments fall under each risk label?\n",
    "\n",
    "2. -------------------------------------------------Geography & Environment----------------------------------------------\n",
    "\n",
    "Do low elevation areas have more flood risk than high elevation areas?\n",
    "\n",
    "Which soil type (A–D) is most common in risky areas?\n",
    "\n",
    "Which land use type (Residential, Industrial, Institutional) shows the highest flood risk?\n",
    "\n",
    "3. ------------------------------------------------Infrastructure------------------------------------------------\n",
    "\n",
    "Are places closer to drains safer compared to those far away?\n",
    "\n",
    "Which drain type (Open Channel, Manhole, Curb Inlet) is seen more in risky areas?\n",
    "\n",
    "4. ------------------------------------------------Rainfall------------------------------------------------\n",
    "\n",
    "Do areas with higher rainfall intensity face more flooding?\n",
    "\n",
    "Does flood risk increase with longer return periods (5 vs 25 vs 50 years)?\n",
    "\n",
    "5. ------------------------------------------------Location Insights------------------------------------------------\n",
    "\n",
    "Which city has the highest number of flood hotspots?\n",
    "\n",
    "Within a city, which wards are most affected?\n",
    "\n",
    "6.------------------------------------------------Combined Factors & Trends------------------------------------------------\n",
    "\n",
    "Which 2–3 factors combined (e.g., low elevation + residential + high rainfall) appear most often in risky areas?\n",
    "\n",
    "What patterns or trends can be seen in the dataset overall?\n",
    "\n",
    "7.------------------------------------------------Decision & Action------------------------------------------------\n",
    "\n",
    "Which areas (or regions) are at highest risk of flooding?\n",
    "\n",
    "Which locations must be prioritized for flood prevention measures?\n",
    "\n",
    "Which areas are safest for new houses or infrastructure?\n",
    "\n",
    "Which villages/towns need early flood warning systems immediately?\n",
    "\n",
    "Should resources (funds, manpower) be focused on high rainfall zones, clay soil regions, or urbanized areas?\n",
    "\n",
    "What is the top recommendation for reducing flood risk in this region?"
   ]
  }
 ],
 "metadata": {
  "kernelspec": {
   "display_name": "Python 3",
   "language": "python",
   "name": "python3"
  },
  "language_info": {
   "codemirror_mode": {
    "name": "ipython",
    "version": 3
   },
   "file_extension": ".py",
   "mimetype": "text/x-python",
   "name": "python",
   "nbconvert_exporter": "python",
   "pygments_lexer": "ipython3",
   "version": "3.13.2"
  }
 },
 "nbformat": 4,
 "nbformat_minor": 5
}
